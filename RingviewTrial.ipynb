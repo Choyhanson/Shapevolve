{
  "nbformat": 4,
  "nbformat_minor": 0,
  "metadata": {
    "colab": {
      "name": "RingviewTrial.ipynb",
      "provenance": [],
      "private_outputs": true,
      "authorship_tag": "ABX9TyP+0siIyRUTOFuvRNQXMiV8",
      "include_colab_link": true
    },
    "kernelspec": {
      "name": "python3",
      "display_name": "Python 3"
    }
  },
  "cells": [
    {
      "cell_type": "markdown",
      "metadata": {
        "id": "view-in-github",
        "colab_type": "text"
      },
      "source": [
        "<a href=\"https://colab.research.google.com/github/richmondvan/ringview/blob/master/RingviewTrial.ipynb\" target=\"_parent\"><img src=\"https://colab.research.google.com/assets/colab-badge.svg\" alt=\"Open In Colab\"/></a>"
      ]
    },
    {
      "cell_type": "markdown",
      "metadata": {
        "id": "6gZpdttS-dYN",
        "colab_type": "text"
      },
      "source": [
        "# Setup"
      ]
    },
    {
      "cell_type": "code",
      "metadata": {
        "id": "dYmONG93wcQS",
        "colab_type": "code",
        "colab": {}
      },
      "source": [
        "from tensorflow import convert_to_tensor\n",
        "from tensorflow.keras.applications import MobileNetV2\n",
        "from tensorflow.keras.models import Sequential, model_from_json\n",
        "from tensorflow.keras.layers import GlobalMaxPool2D\n",
        "from tensorflow.keras.preprocessing.image import img_to_array\n",
        "from matplotlib.pyplot import imshow\n",
        "%matplotlib inline\n",
        "import numpy as np\n",
        "from PIL import Image\n",
        "\n",
        "# Get the base model for feature detection\n",
        "base_model = MobileNetV2(input_shape = (224, 224, 3), include_top=False, weights='imagenet', alpha=1.4)\n",
        "\n",
        "# Remove top layers for generalization\n",
        "CUTOFF = 108\n",
        "for _ in range(len(base_model.layers) - CUTOFF):\n",
        "    base_model._layers.pop()\n",
        "\n",
        "# Build the model.\n",
        "model = Sequential()\n",
        "model.add(base_model)\n",
        "model.add(GlobalMaxPool2D())\n",
        "model.summary()"
      ],
      "execution_count": null,
      "outputs": []
    },
    {
      "cell_type": "code",
      "metadata": {
        "id": "Weh0x3w5-0_s",
        "colab_type": "code",
        "colab": {}
      },
      "source": [
        "# Trials\n",
        "\n",
        "BASEIMAGE_FILENAME = \"img.jpg\"\n",
        "\n",
        "baseImage = Image.open(FILENAME)\n",
        "\n",
        "def evaluateImage(image, model): \n",
        "    # Converts an image into a resized numpy array, and then returns the image's predictions in the CNN.\n",
        "    # image: PIL image object to be evaluated. (Image)\n",
        "    # model: the Tensorflow model that predicts features from the image. (Model)\n",
        "\n",
        "    resizedImage = image.resize((224, 224), Image.ANTIALIAS) # Resize to correct dimensions.\n",
        "    imageInput = img_to_array(resizedImage)[None,...]  # Convert to np array and add an extra dimension to fit the input size.\n",
        "    return model.predict(imageInput) # Predict and return predictions.\n",
        "\n",
        "def calculateError(predictions1, predictions2):\n",
        "    # Calculates the mean squared error, element-wise, between two numpy arrays of equal length.\n",
        "\n",
        "    differences = predictions1[0] \n",
        "\n",
        "    pass\n",
        "    \n",
        "\n",
        "basis = evaluateImage(baseImage, model)\n",
        "print(basis[0])\n"
      ],
      "execution_count": null,
      "outputs": []
    },
    {
      "cell_type": "code",
      "metadata": {
        "id": "9b8wlCcM5iL2",
        "colab_type": "code",
        "colab": {}
      },
      "source": [
        "for layer in base_model.layers:\n",
        "    print(layer.name)"
      ],
      "execution_count": null,
      "outputs": []
    }
  ]
}