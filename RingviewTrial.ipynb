{
  "nbformat": 4,
  "nbformat_minor": 0,
  "metadata": {
    "colab": {
      "name": "RingviewTrial.ipynb",
      "provenance": [],
      "private_outputs": true,
      "authorship_tag": "ABX9TyPErtGtbtI/MoAIoSO4+m77",
      "include_colab_link": true
    },
    "kernelspec": {
      "name": "python3",
      "display_name": "Python 3"
    }
  },
  "cells": [
    {
      "cell_type": "markdown",
      "metadata": {
        "id": "view-in-github",
        "colab_type": "text"
      },
      "source": [
        "<a href=\"https://colab.research.google.com/github/richmondvan/ringview/blob/master/RingviewTrial.ipynb\" target=\"_parent\"><img src=\"https://colab.research.google.com/assets/colab-badge.svg\" alt=\"Open In Colab\"/></a>"
      ]
    },
    {
      "cell_type": "markdown",
      "metadata": {
        "id": "6gZpdttS-dYN",
        "colab_type": "text"
      },
      "source": [
        "# Setup"
      ]
    },
    {
      "cell_type": "markdown",
      "metadata": {
        "id": "KXd1jMRIOmse",
        "colab_type": "text"
      },
      "source": [
        "### Imports"
      ]
    },
    {
      "cell_type": "code",
      "metadata": {
        "id": "dYmONG93wcQS",
        "colab_type": "code",
        "colab": {}
      },
      "source": [
        "from google.colab.patches import cv2_imshow as imshow # For image previews\n",
        "import numpy as np # for linear algebra help\n",
        "from math import inf # for math help :D\n",
        "from random import randint, random # for random number generation\n",
        "from skimage.metrics import structural_similarity, mean_squared_error # For similarity measurement\n",
        "import cv2 # opencv2 for image management\n",
        "\n",
        "from PIL import Image, ImageFilter # for initial image palette and bgcolor generation with help of colorthief\n",
        "%pip install colorthief\n",
        "from colorthief import ColorThief # For grabbing color information from source image"
      ],
      "execution_count": null,
      "outputs": []
    },
    {
      "cell_type": "markdown",
      "metadata": {
        "id": "xAqg1EgTuYwm",
        "colab_type": "text"
      },
      "source": [
        "### Create some helper methods"
      ]
    },
    {
      "cell_type": "code",
      "metadata": {
        "id": "KRc5GE4juTk-",
        "colab_type": "code",
        "colab": {}
      },
      "source": [
        "def changeColorFromRGBToBGR(color): # converts from RGB (colorthief colors) to BGR format (opencv2 colors)\n",
        "    return (color[2], color[1], color[0])\n",
        "\n",
        "def showImage(image): # Shows the image, this is placeholder for VSCode to Colab conversions (since cv2_imshow does not work outside of colab)\n",
        "    imshow(image)\n",
        "\n",
        "class MeanSquaredError:\n",
        "    def calculateError(self, image, source):\n",
        "        return mean_squared_error(image, source)\n",
        "\n",
        "class StructuralSimilarityError:\n",
        "    def calculateError(self, image, source):\n",
        "        return -1 * structural_similarity(image, source, multichannel=True)\n",
        "\n",
        "errorChecker = MeanSquaredError()\n",
        "\n",
        "# Mean squared error function, can be reused later\n",
        "def calculateError(self, image, source):\n",
        "    return mean_squared_error(image, source)\n",
        "\n",
        "# # Structural simularity error function\n",
        "# def calculateError(image, source):\n",
        "#     return -1 * structural_similarity(image, source, multichannel=True) # must be negative because simularity is positive but error is negative\n",
        "\n",
        "def addCircle(image, gene): # Adds a circle based on gene information onto an image using opencv2 blending modes.\n",
        "    overlay = image.copy()\n",
        "    cv2.circle(\n",
        "        overlay,\n",
        "        center=gene.center,\n",
        "        radius=gene.radius,\n",
        "        color=palette[gene.color],\n",
        "        thickness=-1,\n",
        "        lineType=cv2.LINE_AA\n",
        "    )\n",
        "    cv2.addWeighted(overlay, gene.alpha, image, 1-gene.alpha, 0, image)\n",
        "\n",
        "def getTargetDimensions(image):\n",
        "    # Target: 250x250\n",
        "    width = image.width\n",
        "    height = image.height\n",
        "\n",
        "    if width <= 250 or height <= 250:\n",
        "        return (width, height)\n",
        "\n",
        "    ratio = 250 / min(width, height)\n",
        "    return (int(width * ratio), int(height * ratio))"
      ],
      "execution_count": null,
      "outputs": []
    },
    {
      "cell_type": "markdown",
      "metadata": {
        "id": "6JG-KRdUOyxU",
        "colab_type": "text"
      },
      "source": [
        "print(changeprint(*pprintprintfapr### Load an example into memory"
      ]
    },
    {
      "cell_type": "code",
      "metadata": {
        "id": "vqnMQPgvOfAW",
        "colab_type": "code",
        "colab": {}
      },
      "source": [
        "# Trial filenames\n",
        "BUTTERFLY_FILENAME = \"img.jpg\"\n",
        "MONALISA_FILENAME = \"monalisa224.png\"\n",
        "MONALISASQUARE_FILENAME = \"monalisasquare.png\" # Use this!\n",
        "PEARLEARRING = \"pearlearring.jpg\"\n",
        "STARRYNIGHT = \"starrynight.png\"\n",
        "\n",
        "NUM_COLORS = 256 # Number of colors in color palette (this is approximate, colorthief is inconsistent)\n",
        "\n",
        "BASEIMAGE_FILENAME = STARRYNIGHT # Set this to filename of proper image\n",
        "\n",
        "# Smooth image twice\n",
        "baseImage = Image.open(BASEIMAGE_FILENAME) \n",
        "smoothenedImage = baseImage.filter(ImageFilter.SMOOTH_MORE)\n",
        "smoothenedImage = smoothenedImage.filter(ImageFilter.SMOOTH_MORE)\n",
        "smoothenedImage = smoothenedImage.resize(getTargetDimensions(smoothenedImage), Image.LANCZOS)\n",
        "imageArray = np.asarray(smoothenedImage)\n",
        "BGRbaseImage = cv2.cvtColor(imageArray, cv2.COLOR_RGB2BGR)\n",
        "\n",
        "# generate some colours out of smoothened image, remember to convert from RGB to BGR\n",
        "colorThief = ColorThief(BASEIMAGE_FILENAME)\n",
        "backgroundColor = changeColorFromRGBToBGR(colorThief.get_color(quality=1)) # gets the background color\n",
        "palette = colorThief.get_palette(color_count=NUM_COLORS, quality=1) # gets the top colors used by the image.\n",
        "for index, color in enumerate(palette):\n",
        "    palette[index] = changeColorFromRGBToBGR(color)\n",
        "\n",
        "showImage(BGRbaseImage) # Preview image"
      ],
      "execution_count": null,
      "outputs": []
    },
    {
      "cell_type": "markdown",
      "metadata": {
        "id": "0Qk1BsryU5Jy",
        "colab_type": "text"
      },
      "source": [
        "### Prepare for evolution"
      ]
    },
    {
      "cell_type": "code",
      "metadata": {
        "id": "mVPGEP0hO-JA",
        "colab_type": "code",
        "colab": {}
      },
      "source": [
        "# Set evolution constants\n",
        "\n",
        "NUM_GENERATIONS = 50000 # 20000 default. Number of generations to run.\n",
        "\n",
        "NUM_CIRCLES = 1000 # 1000 default. Number of circles to draw. \n",
        "\n",
        "print(BGRbaseImage.shape)\n",
        "\n",
        "# Calculations for minimum and maximum radius to draw on images.\n",
        "MINIMUM_RADIUS = int(0.02 * min(BGRbaseImage.shape[:1]))\n",
        "MAXIMUM_RADIUS = int(0.08 * min(BGRbaseImage.shape[:1]))\n",
        "\n",
        "print(MINIMUM_RADIUS)\n",
        "print(MAXIMUM_RADIUS)\n",
        "\n",
        "# width and height variables for convenience.\n",
        "height = BGRbaseImage.shape[0]\n",
        "width = BGRbaseImage.shape[1]\n",
        "\n",
        "print(height, width)\n",
        "\n",
        "# Build a base image with a solid background color.\n",
        "ancestorImage = np.zeros((height, width, 3), np.uint8)\n",
        "ancestorImage[:] = backgroundColor\n",
        "\n",
        "showImage(ancestorImage) # Preview base image"
      ],
      "execution_count": null,
      "outputs": []
    },
    {
      "cell_type": "markdown",
      "metadata": {
        "id": "0dfjFIoyuxUq",
        "colab_type": "text"
      },
      "source": [
        "### Create gene class"
      ]
    },
    {
      "cell_type": "code",
      "metadata": {
        "id": "KS1OOFJkuzZL",
        "colab_type": "code",
        "colab": {}
      },
      "source": [
        "class Gene: # Defines a single gene, which describes how to draw a single circle.\n",
        "    def __init__(self, maximumRadius, minimumRadius, height, width, numColors): # Basic constructor\n",
        "        self.maximumRadius = maximumRadius\n",
        "        self.minimumRadius = minimumRadius\n",
        "        self.height = height\n",
        "        self.width = width\n",
        "        self.numColors = numColors\n",
        "        self.completelyRandomize() # Randomize values at initialization.\n",
        "    \n",
        "    def revert(self): # Reverts circle to previous properties (in case a mutation was unhelpful.)\n",
        "        self.radius = self.history[0]\n",
        "        self.center = self.history[1]\n",
        "        self.color = self.history[2]\n",
        "        self.alpha = self.history[3]\n",
        "    \n",
        "    def completelyRandomize(self): # Completely randomizes the values \n",
        "        self.radius = randint(self.minimumRadius, self.maximumRadius)\n",
        "        self.center = (randint(0 - int(self.radius/5), self.width + int(self.radius/5)), randint(0 - int(self.radius/5), self.height + int(self.radius/5)))\n",
        "        self.color = randint(0, self.numColors-2)\n",
        "        self.alpha = random() * 0.45 + 0.05\n",
        "\n",
        "    def mutate(self, complete=False): # Mutates a circle randomly.  If complete is True, this will always perform a complete mutation.\n",
        "        self.history = [self.radius, self.center, self.color, self.alpha]\n",
        "        seed = random()\n",
        "        if seed < 0.5: # 50% chance of complete mutation, 50% chance of just changing the radius of the circle\n",
        "            self.completelyRandomize()\n",
        "        else:\n",
        "            self.radius = randint(self.minimumRadius, self.maximumRadius)"
      ],
      "execution_count": null,
      "outputs": []
    },
    {
      "cell_type": "markdown",
      "metadata": {
        "id": "d7lFMZg8U87k",
        "colab_type": "text"
      },
      "source": [
        "### Evolve\n"
      ]
    },
    {
      "cell_type": "code",
      "metadata": {
        "id": "A_IgQHzrU1rc",
        "colab_type": "code",
        "colab": {}
      },
      "source": [
        "topScore = inf # original best score is infinite, so the first run will always overwrite it.\n",
        "topImage = None # the best image so far.\n",
        "\n",
        "cachedImage = None\n",
        "recallFromCache = False\n",
        "\n",
        "sequence = [Gene(MAXIMUM_RADIUS, MINIMUM_RADIUS, height, width, NUM_COLORS) for _ in range(NUM_CIRCLES)] # Generate initial gene sequence.\n",
        "\n",
        "changes = 0 # Record number of total changes made. (some generations may have failed mutations that do not affect the sequence.)\n",
        "\n",
        "EARLY_STOPPING_LIMIT = 500\n",
        "generationsSinceLastChange = 0\n",
        "\n",
        "totalGenerationChanges = 0\n",
        "consecutiveExtremeMutations = 0\n",
        "EARLY_STOPPING_LIMIT_EXTREME_MUTATION = 1000\n",
        "extremeMutation = False\n",
        "\n",
        "finalRun = False\n",
        "\n",
        "for generationIndex in range(NUM_GENERATIONS): # loop through each generation\n",
        "\n",
        "    if extremeMutation:\n",
        "        finalRun = False\n",
        "\n",
        "        # Choose a random gene to mutate (not just the bottom one this time.)\n",
        "        mutationIndex = randint(0, NUM_CIRCLES - 1)\n",
        "        mutatedGene = sequence[mutationIndex]\n",
        "\n",
        "        del sequence[mutationIndex]\n",
        "\n",
        "        mutatedGene.mutate()\n",
        "\n",
        "        sequence.append(mutatedGene)\n",
        "\n",
        "        # Redraw image\n",
        "        image = ancestorImage.copy()\n",
        "        for gene in sequence:\n",
        "            addCircle(image, gene)\n",
        "        \n",
        "        # evaluate the mutation\n",
        "        score = errorChecker.calculateError(image, BGRbaseImage)\n",
        "\n",
        "        # If successful...\n",
        "        if score < topScore:\n",
        "            topScore = score\n",
        "            topImage = image\n",
        "            changes += 1\n",
        "            # Reset all values and go back to regular mutations.\n",
        "            generationsSinceLastChange = 0\n",
        "            consecutiveExtremeMutations += 1\n",
        "            if (consecutiveExtremeMutations >= totalGenerationChanges ** 2):\n",
        "                recallFromCache = False\n",
        "                extremeMutation = False\n",
        "        else:\n",
        "            generationsSinceLastChange += 1\n",
        "            mutatedGene.revert()\n",
        "            del sequence[-1]\n",
        "            sequence.insert(mutationIndex, mutatedGene)\n",
        "\n",
        "            # If we really can't get anywhere, then quit.\n",
        "            if generationsSinceLastChange >= EARLY_STOPPING_LIMIT_EXTREME_MUTATION:\n",
        "                finalRun = True\n",
        "                generationsSinceLastChange = 0\n",
        "                recallFromCache = False\n",
        "                extremeMutation = False\n",
        "                print(\"early stop!\")\n",
        "                break\n",
        "\n",
        "    else:\n",
        "        # grab the gene at the bottom of the sequence (which corresponds to the circle at the very bottom of the image, depthwise)\n",
        "        mutatedGene = sequence[0]\n",
        "        # mutate it\n",
        "        mutatedGene.mutate()\n",
        "\n",
        "        # delete the gene\n",
        "        del sequence[0]\n",
        "\n",
        "        # add the rest of the circles normally\n",
        "        if recallFromCache:\n",
        "            image = cachedImage.copy() # Take built image from \n",
        "        else:\n",
        "            image = ancestorImage.copy()\n",
        "            for gene in sequence:\n",
        "                addCircle(image, gene)\n",
        "            \n",
        "            cachedImage = image.copy()\n",
        "            recallFromCache = True\n",
        "\n",
        "        # add the gene on top.\n",
        "        addCircle(image, mutatedGene)\n",
        "\n",
        "        # evaluate the mutation\n",
        "        score = errorChecker.calculateError(image, BGRbaseImage)\n",
        "\n",
        "        # if it was beneficial...\n",
        "        if score < topScore:\n",
        "            topScore = score\n",
        "            topImage = image\n",
        "            sequence.append(mutatedGene) # Place the gene on top of the sequence again.\n",
        "            changes += 1 # record a change\n",
        "            generationsSinceLastChange = 0\n",
        "            recallFromCache = False # Build next image from scratch.\n",
        "            finalRun = False\n",
        "        else:\n",
        "            generationsSinceLastChange += 1\n",
        "            mutatedGene.revert() # oopsies! revert changes.\n",
        "            sequence.insert(0, mutatedGene) # insert gene back into the end of the sequence so it can be mutated again next generation.\n",
        "            if generationsSinceLastChange >= EARLY_STOPPING_LIMIT:\n",
        "                totalGenerationChanges += 1\n",
        "                extremeMutation = True\n",
        "                generationsSinceLastChange = 0\n",
        "                consecutiveExtremeMutations = 0\n",
        "                if finalRun:\n",
        "                    break\n",
        "\n",
        "    # Periodic checks on progress, every 100 generations.\n",
        "    if generationIndex % 200 == 0:\n",
        "        print(f\"generation: {generationIndex}\")\n",
        "        print(f\"number of changes: {changes}\")\n",
        "        print(f\"number of generation changes: {totalGenerationChanges}\")\n",
        "        extreme = \"extreme\" if extremeMutation else \"not extreme\"\n",
        "        print(f\"Extreme?: {extreme}\")\n",
        "        showImage(topImage)\n",
        "\n",
        "showImage(topImage)\n",
        "print(changes)"
      ],
      "execution_count": null,
      "outputs": []
    }
  ]
}